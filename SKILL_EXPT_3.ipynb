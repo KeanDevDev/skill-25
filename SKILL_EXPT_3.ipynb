{
  "nbformat": 4,
  "nbformat_minor": 0,
  "metadata": {
    "colab": {
      "provenance": [],
      "authorship_tag": "ABX9TyNIIPG9pOruIEYPnglz6tyr"
    },
    "kernelspec": {
      "name": "python3",
      "display_name": "Python 3"
    },
    "language_info": {
      "name": "python"
    }
  },
  "cells": [
    {
      "cell_type": "code",
      "execution_count": 1,
      "metadata": {
        "colab": {
          "base_uri": "https://localhost:8080/"
        },
        "id": "H83Rsh2cAjrY",
        "outputId": "a069e6e7-b347-4ddc-a8c9-e3f8439e0ba5"
      },
      "outputs": [
        {
          "output_type": "stream",
          "name": "stdout",
          "text": [
            "   survived  pclass     sex   age  sibsp  parch     fare embarked  class  \\\n",
            "0         0       3    male  22.0      1      0   7.2500        S  Third   \n",
            "1         1       1  female  38.0      1      0  71.2833        C  First   \n",
            "2         1       3  female  26.0      0      0   7.9250        S  Third   \n",
            "3         1       1  female  35.0      1      0  53.1000        S  First   \n",
            "4         0       3    male  35.0      0      0   8.0500        S  Third   \n",
            "\n",
            "     who  adult_male deck  embark_town alive  alone  \n",
            "0    man        True  NaN  Southampton    no  False  \n",
            "1  woman       False    C    Cherbourg   yes  False  \n",
            "2  woman       False  NaN  Southampton   yes   True  \n",
            "3  woman       False    C  Southampton   yes  False  \n",
            "4    man        True  NaN  Southampton    no   True  \n"
          ]
        }
      ],
      "source": [
        "import seaborn as sns\n",
        "import pandas as pd\n",
        "\n",
        "df = sns.load_dataset(\"titanic\")\n",
        "\n",
        "print(df.head())\n"
      ]
    },
    {
      "cell_type": "code",
      "source": [
        "from sklearn.preprocessing import LabelEncoder, OneHotEncoder, OrdinalEncoder\n",
        "categorical_columns = df.select_dtypes(include=['object']).columns\n",
        "\n",
        "#Fill missing values for categorical columns\n",
        "df[categorical_columns] = df[categorical_columns].fillna(\"Missing\")\n",
        "\n",
        "#Label Encoding (Single Column Example)\n",
        "df[\"sex_label\"] = LabelEncoder().fit_transform(df[\"sex\"])\n",
        "\n",
        "#One-Hot Encoding (All Categorical Columns)\n",
        "df_one_hot = pd.get_dummies(df, columns=categorical_columns, drop_first=True)\n",
        "\n",
        "#Ordinal Encoding (All Categorical Columns)\n",
        "df_ordinal = df.copy()\n",
        "ordinal_encoder = OrdinalEncoder()\n",
        "df_ordinal[categorical_columns] = ordinal_encoder.fit_transform(df_ordinal[categorical_columns])\n",
        "\n",
        "# Display Encoded DataFrames\n",
        "print(\"Label Encoded Data (sex only):\\n\", df[[\"sex\", \"sex_label\"]].head())\n",
        "print(\"\\nOne-Hot Encoded Data:\\n\", df_one_hot.head())\n",
        "print(\"\\nOrdinal Encoded Data:\\n\", df_ordinal.head())\n"
      ],
      "metadata": {
        "colab": {
          "base_uri": "https://localhost:8080/"
        },
        "id": "WUnKL2wGAm2N",
        "outputId": "ee319605-7cb1-45f5-f6ba-718cfffd87b8"
      },
      "execution_count": 4,
      "outputs": [
        {
          "output_type": "stream",
          "name": "stdout",
          "text": [
            "Label Encoded Data (sex only):\n",
            "    sex  sex_label\n",
            "0    1          1\n",
            "1    0          0\n",
            "2    0          0\n",
            "3    0          0\n",
            "4    1          1\n",
            "\n",
            "One-Hot Encoded Data:\n",
            "    survived  pclass  sex   age  sibsp  parch     fare  embarked  class  who  \\\n",
            "0         0       3    1  22.0      1      0   7.2500         2      2    1   \n",
            "1         1       1    0  38.0      1      0  71.2833         0      0    2   \n",
            "2         1       3    0  26.0      0      0   7.9250         2      2    2   \n",
            "3         1       1    0  35.0      1      0  53.1000         2      0    2   \n",
            "4         0       3    1  35.0      0      0   8.0500         2      2    1   \n",
            "\n",
            "   adult_male  deck  embark_town  alive  alone  sex_label  \n",
            "0        True     7            2      0      0          1  \n",
            "1       False     2            0      1      0          0  \n",
            "2       False     7            2      1      1          0  \n",
            "3       False     2            2      1      0          0  \n",
            "4        True     7            2      0      1          1  \n",
            "\n",
            "Ordinal Encoded Data:\n",
            "    survived  pclass  sex   age  sibsp  parch     fare  embarked  class  who  \\\n",
            "0         0       3    1  22.0      1      0   7.2500         2      2    1   \n",
            "1         1       1    0  38.0      1      0  71.2833         0      0    2   \n",
            "2         1       3    0  26.0      0      0   7.9250         2      2    2   \n",
            "3         1       1    0  35.0      1      0  53.1000         2      0    2   \n",
            "4         0       3    1  35.0      0      0   8.0500         2      2    1   \n",
            "\n",
            "   adult_male  deck  embark_town  alive  alone  sex_label  \n",
            "0        True     7            2      0      0          1  \n",
            "1       False     2            0      1      0          0  \n",
            "2       False     7            2      1      1          0  \n",
            "3       False     2            2      1      0          0  \n",
            "4        True     7            2      0      1          1  \n"
          ]
        }
      ]
    }
  ]
}