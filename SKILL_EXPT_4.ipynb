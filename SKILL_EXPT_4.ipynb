{
  "nbformat": 4,
  "nbformat_minor": 0,
  "metadata": {
    "colab": {
      "provenance": [],
      "authorship_tag": "ABX9TyPPyaxAJrVDfv8H6WhLQowK"
    },
    "kernelspec": {
      "name": "python3",
      "display_name": "Python 3"
    },
    "language_info": {
      "name": "python"
    }
  },
  "cells": [
    {
      "cell_type": "code",
      "execution_count": 2,
      "metadata": {
        "colab": {
          "base_uri": "https://localhost:8080/"
        },
        "id": "H83Rsh2cAjrY",
        "outputId": "5fa63c4a-2e54-4408-8285-c1f0d04ebe01"
      },
      "outputs": [
        {
          "output_type": "stream",
          "name": "stdout",
          "text": [
            "   survived  pclass     sex   age  sibsp  parch     fare embarked  class  \\\n",
            "0         0       3    male  22.0      1      0   7.2500        S  Third   \n",
            "1         1       1  female  38.0      1      0  71.2833        C  First   \n",
            "2         1       3  female  26.0      0      0   7.9250        S  Third   \n",
            "3         1       1  female  35.0      1      0  53.1000        S  First   \n",
            "4         0       3    male  35.0      0      0   8.0500        S  Third   \n",
            "\n",
            "     who  adult_male deck  embark_town alive  alone  \n",
            "0    man        True  NaN  Southampton    no  False  \n",
            "1  woman       False    C    Cherbourg   yes  False  \n",
            "2  woman       False  NaN  Southampton   yes   True  \n",
            "3  woman       False    C  Southampton   yes  False  \n",
            "4    man        True  NaN  Southampton    no   True  \n"
          ]
        }
      ],
      "source": [
        "import seaborn as sns\n",
        "import pandas as pd\n",
        "\n",
        "df = sns.load_dataset(\"titanic\")\n",
        "\n",
        "print(df.head())\n"
      ]
    },
    {
      "cell_type": "code",
      "source": [
        "from sklearn.preprocessing import MinMaxScaler, StandardScaler\n",
        "\n",
        "# Selecting numerical columns\n",
        "numerical_columns = ['age', 'fare', 'pclass', 'sibsp', 'parch']\n",
        "\n",
        "# Drop rows with missing values in numerical columns\n",
        "df = df.dropna(subset=numerical_columns)\n",
        "\n",
        "# Normalization (Min-Max Scaling)\n",
        "min_max_scaler = MinMaxScaler()\n",
        "df_normalized = df.copy()\n",
        "df_normalized[numerical_columns] = min_max_scaler.fit_transform(df[numerical_columns])\n",
        "\n",
        "# Standardization (Z-score Scaling)\n",
        "standard_scaler = StandardScaler()\n",
        "df_standardized = df.copy()\n",
        "df_standardized[numerical_columns] = standard_scaler.fit_transform(df[numerical_columns])\n",
        "\n",
        "print(\"\\nNormalized Data (Min-Max Scaling):\\n\", df_normalized.head())\n",
        "print(\"\\nStandardized Data (Z-score Scaling):\\n\", df_standardized.head())\n"
      ],
      "metadata": {
        "colab": {
          "base_uri": "https://localhost:8080/"
        },
        "id": "WUnKL2wGAm2N",
        "outputId": "1101e0e4-3f83-4b88-af3e-ca3312d70834"
      },
      "execution_count": 3,
      "outputs": [
        {
          "output_type": "stream",
          "name": "stdout",
          "text": [
            "\n",
            "Normalized Data (Min-Max Scaling):\n",
            "    survived  pclass     sex       age  sibsp  parch      fare embarked  class  \\\n",
            "0         0     1.0    male  0.271174    0.2    0.0  0.014151        S  Third   \n",
            "1         1     0.0  female  0.472229    0.2    0.0  0.139136        C  First   \n",
            "2         1     1.0  female  0.321438    0.0    0.0  0.015469        S  Third   \n",
            "3         1     0.0  female  0.434531    0.2    0.0  0.103644        S  First   \n",
            "4         0     1.0    male  0.434531    0.0    0.0  0.015713        S  Third   \n",
            "\n",
            "     who  adult_male deck  embark_town alive  alone  \n",
            "0    man        True  NaN  Southampton    no  False  \n",
            "1  woman       False    C    Cherbourg   yes  False  \n",
            "2  woman       False  NaN  Southampton   yes   True  \n",
            "3  woman       False    C  Southampton   yes  False  \n",
            "4    man        True  NaN  Southampton    no   True  \n",
            "\n",
            "Standardized Data (Z-score Scaling):\n",
            "    survived    pclass     sex       age     sibsp     parch      fare  \\\n",
            "0         0  0.911232    male -0.530377  0.524570 -0.505895 -0.518978   \n",
            "1         1 -1.476364  female  0.571831  0.524570 -0.505895  0.691897   \n",
            "2         1  0.911232  female -0.254825 -0.551703 -0.505895 -0.506214   \n",
            "3         1 -1.476364  female  0.365167  0.524570 -0.505895  0.348049   \n",
            "4         0  0.911232    male  0.365167 -0.551703 -0.505895 -0.503850   \n",
            "\n",
            "  embarked  class    who  adult_male deck  embark_town alive  alone  \n",
            "0        S  Third    man        True  NaN  Southampton    no  False  \n",
            "1        C  First  woman       False    C    Cherbourg   yes  False  \n",
            "2        S  Third  woman       False  NaN  Southampton   yes   True  \n",
            "3        S  First  woman       False    C  Southampton   yes  False  \n",
            "4        S  Third    man        True  NaN  Southampton    no   True  \n"
          ]
        }
      ]
    }
  ]
}