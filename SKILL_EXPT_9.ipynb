{
  "nbformat": 4,
  "nbformat_minor": 0,
  "metadata": {
    "colab": {
      "provenance": [],
      "authorship_tag": "ABX9TyPyLhaKNj119LiqkwtsODDQ",
      "include_colab_link": true
    },
    "kernelspec": {
      "name": "python3",
      "display_name": "Python 3"
    },
    "language_info": {
      "name": "python"
    }
  },
  "cells": [
    {
      "cell_type": "markdown",
      "metadata": {
        "id": "view-in-github",
        "colab_type": "text"
      },
      "source": [
        "<a href=\"https://colab.research.google.com/github/KeanDevDev/skill-25/blob/main/SKILL_EXPT_9.ipynb\" target=\"_parent\"><img src=\"https://colab.research.google.com/assets/colab-badge.svg\" alt=\"Open In Colab\"/></a>"
      ]
    },
    {
      "cell_type": "code",
      "execution_count": null,
      "metadata": {
        "colab": {
          "base_uri": "https://localhost:8080/"
        },
        "id": "s1p_k5T38EAr",
        "outputId": "e18a0709-51fe-49a0-bdeb-8608d21c6bc0"
      },
      "outputs": [
        {
          "output_type": "stream",
          "name": "stdout",
          "text": [
            "Mounted at /content/drive\n"
          ]
        }
      ],
      "source": [
        "from google.colab import drive\n",
        "drive.mount('/content/drive')"
      ]
    },
    {
      "cell_type": "code",
      "source": [
        "import pandas as pd\n",
        "df=pd.read_csv('/content/drive/MyDrive/Diabetes.csv')\n",
        "print(df.head())"
      ],
      "metadata": {
        "colab": {
          "base_uri": "https://localhost:8080/"
        },
        "id": "NieO_MOE8JkZ",
        "outputId": "35c61aa7-944a-4762-8df9-795cc483f04e"
      },
      "execution_count": null,
      "outputs": [
        {
          "output_type": "stream",
          "name": "stdout",
          "text": [
            "   pregnancies  glucose  diastolic  triceps  insulin   bmi    dpf  age  \\\n",
            "0            6      148         72       35        0  33.6  0.627   50   \n",
            "1            1       85         66       29        0  26.6  0.351   31   \n",
            "2            8      183         64        0        0  23.3  0.672   32   \n",
            "3            1       89         66       23       94  28.1  0.167   21   \n",
            "4            0      137         40       35      168  43.1  2.288   33   \n",
            "\n",
            "   diabetes  \n",
            "0         1  \n",
            "1         0  \n",
            "2         1  \n",
            "3         0  \n",
            "4         1  \n"
          ]
        }
      ]
    },
    {
      "cell_type": "code",
      "source": [
        "import pandas as pd\n",
        "import numpy as np\n",
        "import matplotlib.pyplot as plt\n",
        "from sklearn.ensemble import RandomForestClassifier\n",
        "from sklearn.model_selection import train_test_split\n",
        "from sklearn.feature_selection import SequentialFeatureSelector\n",
        "from sklearn.linear_model import LogisticRegression\n",
        "\n",
        "\n",
        "X = df.drop(columns=['diabetes'])\n",
        "y = df['diabetes']\n",
        "\n",
        "X_train, X_test, y_train, y_test = train_test_split(X, y, test_size=0.2, random_state=42)\n",
        "\n",
        "\n",
        "model = LogisticRegression(max_iter=1000)\n",
        "\n",
        "\n",
        "forward_selector = SequentialFeatureSelector(model, direction=\"forward\", n_features_to_select=\"auto\", cv=5)\n",
        "forward_selector.fit(X_train, y_train)\n",
        "\n",
        "\n",
        "backward_selector = SequentialFeatureSelector(model, direction=\"backward\", n_features_to_select=\"auto\", cv=5)\n",
        "backward_selector.fit(X_train, y_train)\n",
        "\n",
        "\n",
        "forward_selected_features = X.columns[forward_selector.get_support()]\n",
        "backward_selected_features = X.columns[backward_selector.get_support()]\n",
        "\n",
        "\n",
        "print(\"Forward Selection Features:\", list(forward_selected_features))\n",
        "print(\"Backward Elimination Features:\", list(backward_selected_features))\n"
      ],
      "metadata": {
        "colab": {
          "base_uri": "https://localhost:8080/"
        },
        "id": "_z0_rY5583Yh",
        "outputId": "9ffc5b02-7d94-4f28-c552-6cdbd71d11cb"
      },
      "execution_count": null,
      "outputs": [
        {
          "output_type": "stream",
          "name": "stdout",
          "text": [
            "Forward Selection Features: ['pregnancies', 'glucose', 'bmi', 'dpf']\n",
            "Backward Elimination Features: ['glucose', 'bmi', 'dpf', 'age']\n"
          ]
        }
      ]
    }
  ]
}